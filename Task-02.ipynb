{
 "cells": [
  {
   "cell_type": "code",
   "execution_count": 1,
   "id": "50726137",
   "metadata": {},
   "outputs": [],
   "source": [
    "import numpy as np\n",
    "import pandas as pd"
   ]
  },
  {
   "cell_type": "code",
   "execution_count": 2,
   "id": "ddcc0e5e",
   "metadata": {},
   "outputs": [],
   "source": [
    "data = pd.read_csv(\"medical_students_dataset.csv\")"
   ]
  },
  {
   "cell_type": "code",
   "execution_count": 3,
   "id": "df449b3d",
   "metadata": {},
   "outputs": [
    {
     "data": {
      "text/plain": [
       "(200000, 13)"
      ]
     },
     "execution_count": 3,
     "metadata": {},
     "output_type": "execute_result"
    }
   ],
   "source": [
    "data.shape"
   ]
  },
  {
   "cell_type": "code",
   "execution_count": 4,
   "id": "fdc3ee94",
   "metadata": {},
   "outputs": [
    {
     "data": {
      "text/html": [
       "<div>\n",
       "<style scoped>\n",
       "    .dataframe tbody tr th:only-of-type {\n",
       "        vertical-align: middle;\n",
       "    }\n",
       "\n",
       "    .dataframe tbody tr th {\n",
       "        vertical-align: top;\n",
       "    }\n",
       "\n",
       "    .dataframe thead th {\n",
       "        text-align: right;\n",
       "    }\n",
       "</style>\n",
       "<table border=\"1\" class=\"dataframe\">\n",
       "  <thead>\n",
       "    <tr style=\"text-align: right;\">\n",
       "      <th></th>\n",
       "      <th>Student ID</th>\n",
       "      <th>Age</th>\n",
       "      <th>Gender</th>\n",
       "      <th>Height</th>\n",
       "      <th>Weight</th>\n",
       "      <th>Blood Type</th>\n",
       "      <th>BMI</th>\n",
       "      <th>Temperature</th>\n",
       "      <th>Heart Rate</th>\n",
       "      <th>Blood Pressure</th>\n",
       "      <th>Cholesterol</th>\n",
       "      <th>Diabetes</th>\n",
       "      <th>Smoking</th>\n",
       "    </tr>\n",
       "  </thead>\n",
       "  <tbody>\n",
       "    <tr>\n",
       "      <th>0</th>\n",
       "      <td>1.0</td>\n",
       "      <td>18.0</td>\n",
       "      <td>Female</td>\n",
       "      <td>161.777924</td>\n",
       "      <td>72.354947</td>\n",
       "      <td>O</td>\n",
       "      <td>27.645835</td>\n",
       "      <td>NaN</td>\n",
       "      <td>95.0</td>\n",
       "      <td>109.0</td>\n",
       "      <td>203.0</td>\n",
       "      <td>No</td>\n",
       "      <td>NaN</td>\n",
       "    </tr>\n",
       "    <tr>\n",
       "      <th>1</th>\n",
       "      <td>2.0</td>\n",
       "      <td>NaN</td>\n",
       "      <td>Male</td>\n",
       "      <td>152.069157</td>\n",
       "      <td>47.630941</td>\n",
       "      <td>B</td>\n",
       "      <td>NaN</td>\n",
       "      <td>98.714977</td>\n",
       "      <td>93.0</td>\n",
       "      <td>104.0</td>\n",
       "      <td>163.0</td>\n",
       "      <td>No</td>\n",
       "      <td>No</td>\n",
       "    </tr>\n",
       "    <tr>\n",
       "      <th>2</th>\n",
       "      <td>3.0</td>\n",
       "      <td>32.0</td>\n",
       "      <td>Female</td>\n",
       "      <td>182.537664</td>\n",
       "      <td>55.741083</td>\n",
       "      <td>A</td>\n",
       "      <td>16.729017</td>\n",
       "      <td>98.260293</td>\n",
       "      <td>76.0</td>\n",
       "      <td>130.0</td>\n",
       "      <td>216.0</td>\n",
       "      <td>Yes</td>\n",
       "      <td>No</td>\n",
       "    </tr>\n",
       "    <tr>\n",
       "      <th>3</th>\n",
       "      <td>NaN</td>\n",
       "      <td>30.0</td>\n",
       "      <td>Male</td>\n",
       "      <td>182.112867</td>\n",
       "      <td>63.332207</td>\n",
       "      <td>B</td>\n",
       "      <td>19.096042</td>\n",
       "      <td>98.839605</td>\n",
       "      <td>99.0</td>\n",
       "      <td>112.0</td>\n",
       "      <td>141.0</td>\n",
       "      <td>No</td>\n",
       "      <td>Yes</td>\n",
       "    </tr>\n",
       "    <tr>\n",
       "      <th>4</th>\n",
       "      <td>5.0</td>\n",
       "      <td>23.0</td>\n",
       "      <td>Female</td>\n",
       "      <td>NaN</td>\n",
       "      <td>46.234173</td>\n",
       "      <td>O</td>\n",
       "      <td>NaN</td>\n",
       "      <td>98.480008</td>\n",
       "      <td>95.0</td>\n",
       "      <td>NaN</td>\n",
       "      <td>231.0</td>\n",
       "      <td>No</td>\n",
       "      <td>No</td>\n",
       "    </tr>\n",
       "  </tbody>\n",
       "</table>\n",
       "</div>"
      ],
      "text/plain": [
       "   Student ID   Age  Gender      Height     Weight Blood Type        BMI  \\\n",
       "0         1.0  18.0  Female  161.777924  72.354947          O  27.645835   \n",
       "1         2.0   NaN    Male  152.069157  47.630941          B        NaN   \n",
       "2         3.0  32.0  Female  182.537664  55.741083          A  16.729017   \n",
       "3         NaN  30.0    Male  182.112867  63.332207          B  19.096042   \n",
       "4         5.0  23.0  Female         NaN  46.234173          O        NaN   \n",
       "\n",
       "   Temperature  Heart Rate  Blood Pressure  Cholesterol Diabetes Smoking  \n",
       "0          NaN        95.0           109.0        203.0       No     NaN  \n",
       "1    98.714977        93.0           104.0        163.0       No      No  \n",
       "2    98.260293        76.0           130.0        216.0      Yes      No  \n",
       "3    98.839605        99.0           112.0        141.0       No     Yes  \n",
       "4    98.480008        95.0             NaN        231.0       No      No  "
      ]
     },
     "execution_count": 4,
     "metadata": {},
     "output_type": "execute_result"
    }
   ],
   "source": [
    "data.head(5)"
   ]
  },
  {
   "cell_type": "markdown",
   "id": "9a6fbe2f",
   "metadata": {},
   "source": [
    "# Preprocessing"
   ]
  },
  {
   "cell_type": "code",
   "execution_count": 5,
   "id": "2b5f7e9c",
   "metadata": {},
   "outputs": [
    {
     "data": {
      "text/html": [
       "<div>\n",
       "<style scoped>\n",
       "    .dataframe tbody tr th:only-of-type {\n",
       "        vertical-align: middle;\n",
       "    }\n",
       "\n",
       "    .dataframe tbody tr th {\n",
       "        vertical-align: top;\n",
       "    }\n",
       "\n",
       "    .dataframe thead th {\n",
       "        text-align: right;\n",
       "    }\n",
       "</style>\n",
       "<table border=\"1\" class=\"dataframe\">\n",
       "  <thead>\n",
       "    <tr style=\"text-align: right;\">\n",
       "      <th></th>\n",
       "      <th>Student ID</th>\n",
       "      <th>Age</th>\n",
       "      <th>Height</th>\n",
       "      <th>Weight</th>\n",
       "      <th>BMI</th>\n",
       "      <th>Temperature</th>\n",
       "      <th>Heart Rate</th>\n",
       "      <th>Blood Pressure</th>\n",
       "      <th>Cholesterol</th>\n",
       "    </tr>\n",
       "  </thead>\n",
       "  <tbody>\n",
       "    <tr>\n",
       "      <th>count</th>\n",
       "      <td>180000.000000</td>\n",
       "      <td>180000.000000</td>\n",
       "      <td>180000.000000</td>\n",
       "      <td>180000.000000</td>\n",
       "      <td>180000.000000</td>\n",
       "      <td>180000.000000</td>\n",
       "      <td>180000.000000</td>\n",
       "      <td>180000.000000</td>\n",
       "      <td>180000.000000</td>\n",
       "    </tr>\n",
       "    <tr>\n",
       "      <th>mean</th>\n",
       "      <td>49974.042078</td>\n",
       "      <td>26.021561</td>\n",
       "      <td>174.947103</td>\n",
       "      <td>69.971585</td>\n",
       "      <td>23.338869</td>\n",
       "      <td>98.600948</td>\n",
       "      <td>79.503767</td>\n",
       "      <td>114.558033</td>\n",
       "      <td>184.486361</td>\n",
       "    </tr>\n",
       "    <tr>\n",
       "      <th>std</th>\n",
       "      <td>28879.641657</td>\n",
       "      <td>4.890528</td>\n",
       "      <td>14.447560</td>\n",
       "      <td>17.322574</td>\n",
       "      <td>7.033554</td>\n",
       "      <td>0.500530</td>\n",
       "      <td>11.540755</td>\n",
       "      <td>14.403353</td>\n",
       "      <td>37.559678</td>\n",
       "    </tr>\n",
       "    <tr>\n",
       "      <th>min</th>\n",
       "      <td>1.000000</td>\n",
       "      <td>18.000000</td>\n",
       "      <td>150.000041</td>\n",
       "      <td>40.000578</td>\n",
       "      <td>10.074837</td>\n",
       "      <td>96.397835</td>\n",
       "      <td>60.000000</td>\n",
       "      <td>90.000000</td>\n",
       "      <td>120.000000</td>\n",
       "    </tr>\n",
       "    <tr>\n",
       "      <th>25%</th>\n",
       "      <td>24971.750000</td>\n",
       "      <td>22.000000</td>\n",
       "      <td>162.476110</td>\n",
       "      <td>54.969838</td>\n",
       "      <td>17.858396</td>\n",
       "      <td>98.264750</td>\n",
       "      <td>70.000000</td>\n",
       "      <td>102.000000</td>\n",
       "      <td>152.000000</td>\n",
       "    </tr>\n",
       "    <tr>\n",
       "      <th>50%</th>\n",
       "      <td>49943.500000</td>\n",
       "      <td>26.000000</td>\n",
       "      <td>174.899914</td>\n",
       "      <td>69.979384</td>\n",
       "      <td>22.671401</td>\n",
       "      <td>98.599654</td>\n",
       "      <td>80.000000</td>\n",
       "      <td>115.000000</td>\n",
       "      <td>184.000000</td>\n",
       "    </tr>\n",
       "    <tr>\n",
       "      <th>75%</th>\n",
       "      <td>74986.000000</td>\n",
       "      <td>30.000000</td>\n",
       "      <td>187.464417</td>\n",
       "      <td>84.980097</td>\n",
       "      <td>27.997487</td>\n",
       "      <td>98.940543</td>\n",
       "      <td>90.000000</td>\n",
       "      <td>127.000000</td>\n",
       "      <td>217.000000</td>\n",
       "    </tr>\n",
       "    <tr>\n",
       "      <th>max</th>\n",
       "      <td>100000.000000</td>\n",
       "      <td>34.000000</td>\n",
       "      <td>199.998639</td>\n",
       "      <td>99.999907</td>\n",
       "      <td>44.355113</td>\n",
       "      <td>100.824857</td>\n",
       "      <td>99.000000</td>\n",
       "      <td>139.000000</td>\n",
       "      <td>249.000000</td>\n",
       "    </tr>\n",
       "  </tbody>\n",
       "</table>\n",
       "</div>"
      ],
      "text/plain": [
       "          Student ID            Age         Height         Weight  \\\n",
       "count  180000.000000  180000.000000  180000.000000  180000.000000   \n",
       "mean    49974.042078      26.021561     174.947103      69.971585   \n",
       "std     28879.641657       4.890528      14.447560      17.322574   \n",
       "min         1.000000      18.000000     150.000041      40.000578   \n",
       "25%     24971.750000      22.000000     162.476110      54.969838   \n",
       "50%     49943.500000      26.000000     174.899914      69.979384   \n",
       "75%     74986.000000      30.000000     187.464417      84.980097   \n",
       "max    100000.000000      34.000000     199.998639      99.999907   \n",
       "\n",
       "                 BMI    Temperature     Heart Rate  Blood Pressure  \\\n",
       "count  180000.000000  180000.000000  180000.000000   180000.000000   \n",
       "mean       23.338869      98.600948      79.503767      114.558033   \n",
       "std         7.033554       0.500530      11.540755       14.403353   \n",
       "min        10.074837      96.397835      60.000000       90.000000   \n",
       "25%        17.858396      98.264750      70.000000      102.000000   \n",
       "50%        22.671401      98.599654      80.000000      115.000000   \n",
       "75%        27.997487      98.940543      90.000000      127.000000   \n",
       "max        44.355113     100.824857      99.000000      139.000000   \n",
       "\n",
       "         Cholesterol  \n",
       "count  180000.000000  \n",
       "mean      184.486361  \n",
       "std        37.559678  \n",
       "min       120.000000  \n",
       "25%       152.000000  \n",
       "50%       184.000000  \n",
       "75%       217.000000  \n",
       "max       249.000000  "
      ]
     },
     "execution_count": 5,
     "metadata": {},
     "output_type": "execute_result"
    }
   ],
   "source": [
    "data.describe()"
   ]
  },
  {
   "cell_type": "code",
   "execution_count": 6,
   "id": "7f1ef5b3",
   "metadata": {},
   "outputs": [
    {
     "name": "stdout",
     "output_type": "stream",
     "text": [
      "<class 'pandas.core.frame.DataFrame'>\n",
      "RangeIndex: 200000 entries, 0 to 199999\n",
      "Data columns (total 13 columns):\n",
      " #   Column          Non-Null Count   Dtype  \n",
      "---  ------          --------------   -----  \n",
      " 0   Student ID      180000 non-null  float64\n",
      " 1   Age             180000 non-null  float64\n",
      " 2   Gender          180000 non-null  object \n",
      " 3   Height          180000 non-null  float64\n",
      " 4   Weight          180000 non-null  float64\n",
      " 5   Blood Type      180000 non-null  object \n",
      " 6   BMI             180000 non-null  float64\n",
      " 7   Temperature     180000 non-null  float64\n",
      " 8   Heart Rate      180000 non-null  float64\n",
      " 9   Blood Pressure  180000 non-null  float64\n",
      " 10  Cholesterol     180000 non-null  float64\n",
      " 11  Diabetes        180000 non-null  object \n",
      " 12  Smoking         180000 non-null  object \n",
      "dtypes: float64(9), object(4)\n",
      "memory usage: 19.8+ MB\n"
     ]
    }
   ],
   "source": [
    "\n",
    "data.info()"
   ]
  },
  {
   "cell_type": "code",
   "execution_count": 7,
   "id": "41482497",
   "metadata": {},
   "outputs": [
    {
     "data": {
      "text/plain": [
       "Student ID        20000\n",
       "Age               20000\n",
       "Gender            20000\n",
       "Height            20000\n",
       "Weight            20000\n",
       "Blood Type        20000\n",
       "BMI               20000\n",
       "Temperature       20000\n",
       "Heart Rate        20000\n",
       "Blood Pressure    20000\n",
       "Cholesterol       20000\n",
       "Diabetes          20000\n",
       "Smoking           20000\n",
       "dtype: int64"
      ]
     },
     "execution_count": 7,
     "metadata": {},
     "output_type": "execute_result"
    }
   ],
   "source": [
    "data.isnull().sum()"
   ]
  },
  {
   "cell_type": "code",
   "execution_count": 8,
   "id": "0a5a4ec9",
   "metadata": {},
   "outputs": [],
   "source": [
    "data.dropna(inplace = True)\n"
   ]
  },
  {
   "cell_type": "code",
   "execution_count": 9,
   "id": "6d20eaba",
   "metadata": {},
   "outputs": [
    {
     "data": {
      "text/plain": [
       "Student ID        0\n",
       "Age               0\n",
       "Gender            0\n",
       "Height            0\n",
       "Weight            0\n",
       "Blood Type        0\n",
       "BMI               0\n",
       "Temperature       0\n",
       "Heart Rate        0\n",
       "Blood Pressure    0\n",
       "Cholesterol       0\n",
       "Diabetes          0\n",
       "Smoking           0\n",
       "dtype: int64"
      ]
     },
     "execution_count": 9,
     "metadata": {},
     "output_type": "execute_result"
    }
   ],
   "source": [
    "data.isnull().sum()"
   ]
  },
  {
   "cell_type": "code",
   "execution_count": 10,
   "id": "386aef82",
   "metadata": {},
   "outputs": [
    {
     "data": {
      "text/plain": [
       "6456"
      ]
     },
     "execution_count": 10,
     "metadata": {},
     "output_type": "execute_result"
    }
   ],
   "source": [
    "data.duplicated().sum()"
   ]
  },
  {
   "cell_type": "code",
   "execution_count": 11,
   "id": "e817b984",
   "metadata": {},
   "outputs": [],
   "source": [
    "data.drop_duplicates(inplace = True)"
   ]
  },
  {
   "cell_type": "code",
   "execution_count": 12,
   "id": "b0a99e86",
   "metadata": {},
   "outputs": [
    {
     "data": {
      "text/plain": [
       "0"
      ]
     },
     "execution_count": 12,
     "metadata": {},
     "output_type": "execute_result"
    }
   ],
   "source": [
    "data.duplicated().sum()"
   ]
  },
  {
   "cell_type": "code",
   "execution_count": 13,
   "id": "6c569d4c",
   "metadata": {},
   "outputs": [],
   "source": [
    "#Adding a new column\n",
    "data['Age_sqrt'] = np.sqrt(data['Age'])"
   ]
  },
  {
   "cell_type": "code",
   "execution_count": 14,
   "id": "66df6dd4",
   "metadata": {},
   "outputs": [
    {
     "data": {
      "text/html": [
       "<div>\n",
       "<style scoped>\n",
       "    .dataframe tbody tr th:only-of-type {\n",
       "        vertical-align: middle;\n",
       "    }\n",
       "\n",
       "    .dataframe tbody tr th {\n",
       "        vertical-align: top;\n",
       "    }\n",
       "\n",
       "    .dataframe thead th {\n",
       "        text-align: right;\n",
       "    }\n",
       "</style>\n",
       "<table border=\"1\" class=\"dataframe\">\n",
       "  <thead>\n",
       "    <tr style=\"text-align: right;\">\n",
       "      <th></th>\n",
       "      <th>Student ID</th>\n",
       "      <th>Age</th>\n",
       "      <th>Gender</th>\n",
       "      <th>Height</th>\n",
       "      <th>Weight</th>\n",
       "      <th>Blood Type</th>\n",
       "      <th>BMI</th>\n",
       "      <th>Temperature</th>\n",
       "      <th>Heart Rate</th>\n",
       "      <th>Blood Pressure</th>\n",
       "      <th>Cholesterol</th>\n",
       "      <th>Diabetes</th>\n",
       "      <th>Smoking</th>\n",
       "      <th>Age_sqrt</th>\n",
       "    </tr>\n",
       "  </thead>\n",
       "  <tbody>\n",
       "    <tr>\n",
       "      <th>2</th>\n",
       "      <td>3.0</td>\n",
       "      <td>32.0</td>\n",
       "      <td>Female</td>\n",
       "      <td>182.537664</td>\n",
       "      <td>55.741083</td>\n",
       "      <td>A</td>\n",
       "      <td>16.729017</td>\n",
       "      <td>98.260293</td>\n",
       "      <td>76.0</td>\n",
       "      <td>130.0</td>\n",
       "      <td>216.0</td>\n",
       "      <td>Yes</td>\n",
       "      <td>No</td>\n",
       "      <td>5.656854</td>\n",
       "    </tr>\n",
       "    <tr>\n",
       "      <th>7</th>\n",
       "      <td>8.0</td>\n",
       "      <td>28.0</td>\n",
       "      <td>Male</td>\n",
       "      <td>186.489402</td>\n",
       "      <td>52.389752</td>\n",
       "      <td>AB</td>\n",
       "      <td>15.063921</td>\n",
       "      <td>98.227788</td>\n",
       "      <td>85.0</td>\n",
       "      <td>123.0</td>\n",
       "      <td>128.0</td>\n",
       "      <td>No</td>\n",
       "      <td>No</td>\n",
       "      <td>5.291503</td>\n",
       "    </tr>\n",
       "    <tr>\n",
       "      <th>11</th>\n",
       "      <td>12.0</td>\n",
       "      <td>34.0</td>\n",
       "      <td>Female</td>\n",
       "      <td>182.416302</td>\n",
       "      <td>76.371050</td>\n",
       "      <td>AB</td>\n",
       "      <td>22.950992</td>\n",
       "      <td>98.118274</td>\n",
       "      <td>86.0</td>\n",
       "      <td>97.0</td>\n",
       "      <td>247.0</td>\n",
       "      <td>No</td>\n",
       "      <td>No</td>\n",
       "      <td>5.830952</td>\n",
       "    </tr>\n",
       "  </tbody>\n",
       "</table>\n",
       "</div>"
      ],
      "text/plain": [
       "    Student ID   Age  Gender      Height     Weight Blood Type        BMI  \\\n",
       "2          3.0  32.0  Female  182.537664  55.741083          A  16.729017   \n",
       "7          8.0  28.0    Male  186.489402  52.389752         AB  15.063921   \n",
       "11        12.0  34.0  Female  182.416302  76.371050         AB  22.950992   \n",
       "\n",
       "    Temperature  Heart Rate  Blood Pressure  Cholesterol Diabetes Smoking  \\\n",
       "2     98.260293        76.0           130.0        216.0      Yes      No   \n",
       "7     98.227788        85.0           123.0        128.0       No      No   \n",
       "11    98.118274        86.0            97.0        247.0       No      No   \n",
       "\n",
       "    Age_sqrt  \n",
       "2   5.656854  \n",
       "7   5.291503  \n",
       "11  5.830952  "
      ]
     },
     "execution_count": 14,
     "metadata": {},
     "output_type": "execute_result"
    }
   ],
   "source": [
    "data.head(3)"
   ]
  },
  {
   "cell_type": "markdown",
   "id": "9bc93e1c",
   "metadata": {},
   "source": [
    "# EDA"
   ]
  },
  {
   "cell_type": "code",
   "execution_count": 15,
   "id": "132594e6",
   "metadata": {},
   "outputs": [],
   "source": [
    "import matplotlib.pyplot as plt\n",
    "%matplotlib inline\n",
    "from scipy.stats import pearsonr\n",
    "import seaborn as sns"
   ]
  },
  {
   "cell_type": "code",
   "execution_count": 16,
   "id": "94914ea0",
   "metadata": {},
   "outputs": [
    {
     "data": {
      "text/plain": [
       "Female    22224\n",
       "Male      22113\n",
       "Name: Gender, dtype: int64"
      ]
     },
     "execution_count": 16,
     "metadata": {},
     "output_type": "execute_result"
    }
   ],
   "source": [
    "data['Gender'].value_counts()"
   ]
  },
  {
   "cell_type": "code",
   "execution_count": 17,
   "id": "b27c5545",
   "metadata": {},
   "outputs": [
    {
     "data": {
      "text/plain": [
       "([<matplotlib.axis.XTick at 0x19974549bb0>,\n",
       "  <matplotlib.axis.XTick at 0x19974549b80>],\n",
       " [Text(0, 0, 'Female'), Text(1, 0, 'Male')])"
      ]
     },
     "execution_count": 17,
     "metadata": {},
     "output_type": "execute_result"
    },
    {
     "data": {
      "image/png": "[encoded data removed]",
      "text/plain": [
       "<Figure size 432x288 with 1 Axes>"
      ]
     },
     "metadata": {
      "needs_background": "light"
     },
     "output_type": "display_data"
    }
   ],
   "source": [
    "\n",
    "sns.countplot(x = data['Gender'])\n",
    "plt.xticks([0, 1], ['Female', 'Male'])"
   ]
  },
  {
   "cell_type": "code",
   "execution_count": 18,
   "id": "62b42f69",
   "metadata": {},
   "outputs": [
    {
     "data": {
      "text/plain": [
       "<AxesSubplot:xlabel='Age', ylabel='Weight'>"
      ]
     },
     "execution_count": 18,
     "metadata": {},
     "output_type": "execute_result"
    },
    {
     "data": {
      "image/png": "[encoded data removed]",
      "text/plain": [
       "<Figure size 432x288 with 1 Axes>"
      ]
     },
     "metadata": {
      "needs_background": "light"
     },
     "output_type": "display_data"
    }
   ],
   "source": [
    "sns.boxplot(x = 'Age', y = 'Weight', data = data, hue = 'Gender')"
   ]
  },
  {
   "cell_type": "code",
   "execution_count": 19,
   "id": "b3e778a4",
   "metadata": {},
   "outputs": [
    {
     "data": {
      "text/plain": [
       "<StemContainer object of 3 artists>"
      ]
     },
     "execution_count": 19,
     "metadata": {},
     "output_type": "execute_result"
    },
    {
     "data": {
      "image/png": "[encoded data removed]",
      "text/plain": [
       "<Figure size 432x288 with 1 Axes>"
      ]
     },
     "metadata": {
      "needs_background": "light"
     },
     "output_type": "display_data"
    }
   ],
   "source": [
    "plt.stem(data['Age'], data['Weight'])"
   ]
  },
  {
   "cell_type": "code",
   "execution_count": 20,
   "id": "042e2abe",
   "metadata": {},
   "outputs": [
    {
     "data": {
      "text/plain": [
       "<AxesSubplot:xlabel='Weight', ylabel='Density'>"
      ]
     },
     "execution_count": 20,
     "metadata": {},
     "output_type": "execute_result"
    },
    {
     "data": {
      "image/png": "[encoded data removed]",
      "text/plain": [
       "<Figure size 432x288 with 1 Axes>"
      ]
     },
     "metadata": {
      "needs_background": "light"
     },
     "output_type": "display_data"
    }
   ],
   "source": [
    "sns.kdeplot(data = data['Weight'], fill = True, label = 'Male')\n",
    "sns.kdeplot(data = data['Weight'], fill = True, label = 'Female')"
   ]
  },
  {
   "cell_type": "code",
   "execution_count": 21,
   "id": "911e3e88",
   "metadata": {},
   "outputs": [
    {
     "data": {
      "text/plain": [
       "<AxesSubplot:xlabel='Gender', ylabel='count'>"
      ]
     },
     "execution_count": 21,
     "metadata": {},
     "output_type": "execute_result"
    },
    {
     "data": {
      "image/png": "[encoded data removed]",
      "text/plain": [
       "<Figure size 1080x360 with 2 Axes>"
      ]
     },
     "metadata": {
      "needs_background": "light"
     },
     "output_type": "display_data"
    }
   ],
   "source": [
    "fig, ax = plt.subplots(1, 2, figsize = (15, 5))\n",
    "sns.countplot(x = 'Gender', hue = 'Diabetes', data = data, ax = ax[0])\n",
    "sns.countplot(x = 'Gender', hue = 'Smoking', data= data, ax = ax[1])"
   ]
  },
  {
   "cell_type": "code",
   "execution_count": 22,
   "id": "df9fe730",
   "metadata": {},
   "outputs": [
    {
     "data": {
      "text/plain": [
       "<AxesSubplot:xlabel='Blood Type', ylabel='count'>"
      ]
     },
     "execution_count": 22,
     "metadata": {},
     "output_type": "execute_result"
    },
    {
     "data": {
      "image/png": "[encoded data removed]",
      "text/plain": [
       "<Figure size 1080x360 with 2 Axes>"
      ]
     },
     "metadata": {
      "needs_background": "light"
     },
     "output_type": "display_data"
    }
   ],
   "source": [
    "fig, ax = plt.subplots(1, 2, figsize = (15, 5))\n",
    "sns.countplot(x = 'Blood Type', hue = 'Diabetes', data = data, ax = ax[0])\n",
    "sns.countplot(x = 'Blood Type', hue = 'Smoking', data = data, ax = ax[1])"
   ]
  },
  {
   "cell_type": "code",
   "execution_count": 23,
   "id": "e5141b8d",
   "metadata": {},
   "outputs": [
    {
     "data": {
      "image/png": "[encoded data removed]",
      "text/plain": [
       "<Figure size 432x288 with 1 Axes>"
      ]
     },
     "metadata": {
      "needs_background": "light"
     },
     "output_type": "display_data"
    }
   ],
   "source": [
    "sns.histplot(data, x = 'Age', kde = True)\n",
    "plt.title('Age')\n",
    "plt.show()"
   ]
  },
  {
   "cell_type": "code",
   "execution_count": 24,
   "id": "d654ddee",
   "metadata": {},
   "outputs": [
    {
     "data": {
      "image/png": "[encoded data removed]",
      "text/plain": [
       "<Figure size 432x288 with 1 Axes>"
      ]
     },
     "metadata": {
      "needs_background": "light"
     },
     "output_type": "display_data"
    }
   ],
   "source": [
    "sns.histplot(data, x = 'Weight', kde = True)\n",
    "plt.title('Weight')\n",
    "plt.show()"
   ]
  },
  {
   "cell_type": "code",
   "execution_count": null,
   "id": "eeae507c",
   "metadata": {},
   "outputs": [],
   "source": []
  }
 ],
 "metadata": {
  "kernelspec": {
   "display_name": "Python 3 (ipykernel)",
   "language": "python",
   "name": "python3"
  },
  "language_info": {
   "codemirror_mode": {
    "name": "ipython",
    "version": 3
   },
   "file_extension": ".py",
   "mimetype": "text/x-python",
   "name": "python",
   "nbconvert_exporter": "python",
   "pygments_lexer": "ipython3",
   "version": "3.9.12"
  }
 },
 "nbformat": 4,
 "nbformat_minor": 5
}
